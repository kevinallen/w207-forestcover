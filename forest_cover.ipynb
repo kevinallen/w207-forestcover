{
 "metadata": {
  "name": "",
  "signature": "sha256:e8ffe254612f019b03f67b256a346976fab4f65b3a43ee4ca1b418e7feb23aee"
 },
 "nbformat": 3,
 "nbformat_minor": 0,
 "worksheets": [
  {
   "cells": [
    {
     "cell_type": "markdown",
     "metadata": {},
     "source": [
      "#Forest Cover Prediction\n",
      "###By Kevin Allen\n",
      "\n",
      "The first thing we need to do is import the data and reformat it to an ndarray to use for scikit-learn."
     ]
    },
    {
     "cell_type": "code",
     "collapsed": false,
     "input": [
      "# This tells matplotlib not to try opening a new window for each plot.\n",
      "%matplotlib inline\n",
      "\n",
      "# General libraries.\n",
      "import numpy as np\n",
      "import matplotlib.pyplot as plt\n",
      "import csv\n",
      "\n",
      "# SK-learn libraries for learning.\n",
      "from sklearn.dummy import DummyClassifier\n"
     ],
     "language": "python",
     "metadata": {},
     "outputs": [],
     "prompt_number": 37
    },
    {
     "cell_type": "code",
     "collapsed": false,
     "input": [
      "# get the feature names from the first row of the train data\n",
      "with open(\"train.csv\",\"r\") as f:\n",
      "    reader = csv.reader(f)\n",
      "    feature_names = reader.next()\n",
      "# read the train and test data\n",
      "train_data = np.loadtxt(open(\"train.csv\",\"rb\"),delimiter=\",\",skiprows=1)\n",
      "test_data = np.loadtxt(open(\"test.csv\",\"rb\"),delimiter=\",\",skiprows=1)\n",
      "\n",
      "# remove CoverType from the feature names and training data\n",
      "feature_names = feature_names[:-1]\n",
      "train_data, train_labels = train_data[:,:-1], train_data[:,-1]\n",
      "print 'There are %s features and %s training examples' % \\\n",
      "    (train_data.shape[1], train_data.shape[0])\n",
      "print 'The features are:'\n",
      "for feature in feature_names:\n",
      "    print '  ',feature\n",
      "\n",
      "# shuffle the training data\n",
      "shuffle = np.random.permutation(np.arange(train_data.shape[0]))\n",
      "train_data, train_labels = train_data[shuffle], train_labels[shuffle]"
     ],
     "language": "python",
     "metadata": {},
     "outputs": [
      {
       "output_type": "stream",
       "stream": "stdout",
       "text": [
        "There are 55 features and 15120 training examples\n",
        "The features are:\n",
        "   Id"
       ]
      },
      {
       "output_type": "stream",
       "stream": "stdout",
       "text": [
        "\n",
        "   Elevation\n",
        "   Aspect\n",
        "   Slope\n",
        "   Horizontal_Distance_To_Hydrology\n",
        "   Vertical_Distance_To_Hydrology\n",
        "   Horizontal_Distance_To_Roadways\n",
        "   Hillshade_9am\n",
        "   Hillshade_Noon\n",
        "   Hillshade_3pm\n",
        "   Horizontal_Distance_To_Fire_Points\n",
        "   Wilderness_Area1\n",
        "   Wilderness_Area2\n",
        "   Wilderness_Area3\n",
        "   Wilderness_Area4\n",
        "   Soil_Type1\n",
        "   Soil_Type2\n",
        "   Soil_Type3\n",
        "   Soil_Type4\n",
        "   Soil_Type5\n",
        "   Soil_Type6\n",
        "   Soil_Type7\n",
        "   Soil_Type8\n",
        "   Soil_Type9\n",
        "   Soil_Type10\n",
        "   Soil_Type11\n",
        "   Soil_Type12\n",
        "   Soil_Type13\n",
        "   Soil_Type14\n",
        "   Soil_Type15\n",
        "   Soil_Type16\n",
        "   Soil_Type17\n",
        "   Soil_Type18\n",
        "   Soil_Type19\n",
        "   Soil_Type20\n",
        "   Soil_Type21\n",
        "   Soil_Type22\n",
        "   Soil_Type23\n",
        "   Soil_Type24\n",
        "   Soil_Type25\n",
        "   Soil_Type26\n",
        "   Soil_Type27\n",
        "   Soil_Type28\n",
        "   Soil_Type29\n",
        "   Soil_Type30\n",
        "   Soil_Type31\n",
        "   Soil_Type32\n",
        "   Soil_Type33\n",
        "   Soil_Type34\n",
        "   Soil_Type35\n",
        "   Soil_Type36\n",
        "   Soil_Type37\n",
        "   Soil_Type38\n",
        "   Soil_Type39\n",
        "   Soil_Type40\n"
       ]
      }
     ],
     "prompt_number": 60
    },
    {
     "cell_type": "code",
     "collapsed": false,
     "input": [
      "# create a baseline estimate by predicting a random label\n",
      "clf = DummyClassifier(strategy='uniform')\n",
      "clf.fit(train_data, train_labels)\n",
      "predictions = clf.predict(test_data)\n",
      "\n",
      "with open(\"predictions.csv\", \"wb\") as csvfile:\n",
      "    writer = csv.writer(csvfile)\n",
      "    writer.writerow(['Id','Cover_Type'])\n",
      "    for id, prediction in zip(test_data[:,0], predictions):\n",
      "        writer.writerow([int(id), int(prediction)])\n",
      "    "
     ],
     "language": "python",
     "metadata": {},
     "outputs": [],
     "prompt_number": 61
    }
   ],
   "metadata": {}
  }
 ]
}