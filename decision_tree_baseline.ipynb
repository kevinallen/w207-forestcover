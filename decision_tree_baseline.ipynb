{
 "metadata": {
  "name": "",
  "signature": "sha256:21f326c7b91011919123fcf4d719012435e9c7da5dea998aa754e9c570d8666d"
 },
 "nbformat": 3,
 "nbformat_minor": 0,
 "worksheets": [
  {
   "cells": [
    {
     "cell_type": "markdown",
     "metadata": {},
     "source": [
      "#Default sklearn decision tree classifier\n"
     ]
    },
    {
     "cell_type": "code",
     "collapsed": false,
     "input": [],
     "language": "python",
     "metadata": {},
     "outputs": []
    }
   ],
   "metadata": {}
  }
 ]
}