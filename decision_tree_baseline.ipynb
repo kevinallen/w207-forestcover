{
 "metadata": {
  "name": "",
  "signature": "sha256:a121a47fd35c9908fe36f447acf6d6b122c22e3008c351aaa04200c172a5407b"
 },
 "nbformat": 3,
 "nbformat_minor": 0,
 "worksheets": [
  {
   "cells": [
    {
     "cell_type": "markdown",
     "metadata": {},
     "source": [
      "#Default sklearn decision tree classifier\n"
     ]
    },
    {
     "cell_type": "code",
     "collapsed": false,
     "input": [
      "import pandas as pd\n",
      "from sklearn import tree\n",
      "\n",
      "if __name__ == \"__main__\":\n",
      "  loc_train = \"train.csv\"\n",
      "  loc_test = \"test.csv\"\n",
      "  loc_submission = \"decision_tree_baseline.csv\"\n",
      "\n",
      "  df_train = pd.read_csv(loc_train)\n",
      "  df_test = pd.read_csv(loc_test)\n",
      "\n",
      "  feature_cols = [col for col in df_train.columns if col not in ['Cover_Type','Id']]\n",
      "\n",
      "  X_train = df_train[feature_cols]\n",
      "  X_test = df_test[feature_cols]\n",
      "  y = df_train['Cover_Type']\n",
      "  test_ids = df_test['Id']\n",
      "\n",
      "  clf = tree.DecisionTreeClassifier()\n",
      "\n",
      "  clf.fit(X_train, y)\n",
      "\n",
      "  with open(loc_submission, \"wb\") as outfile:\n",
      "    outfile.write(\"Id,Cover_Type\\n\")\n",
      "    for e, val in enumerate(list(clf.predict(X_test))):\n",
      "      outfile.write(\"%s,%s\\n\"%(test_ids[e],val))\n"
     ],
     "language": "python",
     "metadata": {},
     "outputs": [],
     "prompt_number": 1
    },
    {
     "cell_type": "code",
     "collapsed": false,
     "input": [],
     "language": "python",
     "metadata": {},
     "outputs": []
    }
   ],
   "metadata": {}
  }
 ]
}